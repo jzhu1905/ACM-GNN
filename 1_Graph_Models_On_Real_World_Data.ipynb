{
  "nbformat": 4,
  "nbformat_minor": 0,
  "metadata": {
    "colab": {
      "provenance": [],
      "authorship_tag": "ABX9TyMr5fiHndCmzn11jIQMKYY2",
      "include_colab_link": true
    },
    "kernelspec": {
      "name": "python3",
      "display_name": "Python 3"
    },
    "language_info": {
      "name": "python"
    }
  },
  "cells": [
    {
      "cell_type": "markdown",
      "metadata": {
        "id": "view-in-github",
        "colab_type": "text"
      },
      "source": [
        "<a href=\"https://colab.research.google.com/github/jzhu1905/ACM-GNN/blob/main/1_Graph_Models_On_Real_World_Data.ipynb\" target=\"_parent\"><img src=\"https://colab.research.google.com/assets/colab-badge.svg\" alt=\"Open In Colab\"/></a>"
      ]
    },
    {
      "cell_type": "code",
      "execution_count": 3,
      "metadata": {
        "id": "ANSVAC6gNxoh"
      },
      "outputs": [],
      "source": [
        "COLLAB_ENV = True"
      ]
    },
    {
      "cell_type": "code",
      "source": [
        "import os\n",
        "import torch\n",
        "\n",
        "if COLLAB_ENV:\n",
        "  !git clone https://github.com/jzhu1905/HeterophilicGraphLearning-Tutorial.git\n",
        "  !cd HeterophilicGraphLearning-Tutorial && git submodule update --init --recursive\n",
        "  !mv HeterophilicGraphLearning-Tutorial/* ./\n",
        "  !rm -rf HeterophilicGraphLearning-Tutorial\n",
        "\n",
        "  os.environ['TORCH'] = torch.__version__\n",
        "  print(torch.__version__)"
      ],
      "metadata": {
        "colab": {
          "base_uri": "https://localhost:8080/"
        },
        "id": "NZNLbMrlOccl",
        "outputId": "e8261798-ea99-42c9-e114-bd1b07c7ba2d"
      },
      "execution_count": 5,
      "outputs": [
        {
          "output_type": "stream",
          "name": "stdout",
          "text": [
            "Cloning into 'HeterophilicGraphLearning-Tutorial'...\n",
            "fatal: could not read Username for 'https://github.com': No such device or address\n",
            "/bin/bash: line 1: cd: HeterophilicGraphLearning-Tutorial: No such file or directory\n",
            "mv: cannot stat 'HeterophilicGraphLearning-Tutorial/*': No such file or directory\n",
            "2.5.0+cu121\n"
          ]
        }
      ]
    }
  ]
}